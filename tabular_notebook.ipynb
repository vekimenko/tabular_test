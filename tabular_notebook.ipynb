{
 "cells": [
  {
   "cell_type": "markdown",
   "id": "003c62be",
   "metadata": {},
   "source": [
    "# Create and run a pipeline in Vertex AI"
   ]
  },
  {
   "cell_type": "code",
   "execution_count": null,
   "id": "905c8f00",
   "metadata": {
    "tags": []
   },
   "outputs": [],
   "source": [
    "%load_ext autoreload\n",
    "%autoreload 2"
   ]
  },
  {
   "cell_type": "markdown",
   "id": "7ec865d9",
   "metadata": {},
   "source": [
    "TFX Version: 1.12.0  \n",
    "Tensorflow Version: 2.11.0"
   ]
  },
  {
   "cell_type": "code",
   "execution_count": null,
   "id": "ddd982ba",
   "metadata": {
    "tags": []
   },
   "outputs": [],
   "source": [
    "from google.cloud import aiplatform\n",
    "from google.cloud.aiplatform import pipeline_jobs\n",
    "from google.cloud import storage\n",
    "import tensorflow as tf\n",
    "from tfx import v1 as tfx\n",
    "from tfx.proto import example_gen_pb2\n",
    "from tfx.extensions.google_cloud_big_query.example_gen.component import BigQueryExampleGen\n",
    "from tfx.dsl.components.common import resolver\n",
    "from tfx.proto import pusher_pb2\n",
    "from tfx.proto import trainer_pb2\n",
    "from tfx.types import Channel\n",
    "from tfx.types.standard_artifacts import Model\n",
    "from tfx.types.standard_artifacts import ModelBlessing\n",
    "from tfx.dsl.experimental import latest_blessed_model_resolver\n",
    "import tensorflow_model_analysis as tfma\n",
    "from typing import List, Optional\n",
    "from tfx.orchestration.kubeflow.v2 import kubeflow_v2_dag_runner\n",
    "import tensorflow_transform as tft\n",
    "import pandas as pd\n",
    "import os\n",
    "import logging\n",
    "logging.getLogger().setLevel(logging.INFO)\n",
    "print(\"TFX Version:\", tfx.__version__)\n",
    "print(\"Tensorflow Version:\", tf.__version__)"
   ]
  },
  {
   "cell_type": "code",
   "execution_count": null,
   "id": "fac28806",
   "metadata": {
    "tags": []
   },
   "outputs": [],
   "source": [
    "import sys\n",
    "sys.path.append(\"../..\")"
   ]
  },
  {
   "cell_type": "code",
   "execution_count": null,
   "id": "1893a060",
   "metadata": {
    "tags": []
   },
   "outputs": [],
   "source": [
    "from src.common import utils"
   ]
  },
  {
   "cell_type": "markdown",
   "id": "d544c5b9",
   "metadata": {},
   "source": [
    "<b>Update variables in config.yml before running the next cell</b>"
   ]
  },
  {
   "cell_type": "code",
   "execution_count": 3,
   "id": "d67b12ea",
   "metadata": {
    "tags": []
   },
   "outputs": [
    {
     "name": "stdout",
     "output_type": "stream",
     "text": [
      "Project ID: strategy-bi-ltd\n",
      "Region: europe-west1\n",
      "Bucket name: mlops-mlops\n",
      "Service Account: mlops-compute@strategy-bi-ltd.iam.gserviceaccount.com\n",
      "Vertex API Parent URI: projects/strategy-bi-ltd/locations/europe-west1\n",
      "Version: v04\n",
      "Dataset display name: baseline\n",
      "Model display name: baseline-classifier-v04\n",
      "Workspace: gs://mlops-mlops/baseline\n",
      "Raw schema dir: raw_schema\n",
      "Module file local path: model.py\n",
      "Module file GCP path: gs://mlops-mlops/baseline/pipeline_module/baseline-classifier-v04-train-pipeline/pipeline_root/baseline-classifier-v04-train-pipeline/model.py\n",
      "MLMD sqllite: mlmd.sqllite\n",
      "Artifact store: gs://mlops-mlops/baseline\\tfx_artifacts_interactive\n",
      "Model registry: gs://mlops-mlops/baseline\\model_registry\n",
      "Pipeline name: baseline-classifier-v04-train-pipeline\n",
      "Pipeline root: gs://mlops-mlops/baseline\\tfx_artifacts_interactive\\baseline-classifier-v04-train-pipeline\n",
      "Pipeline definition file: baseline.json\n"
     ]
    }
   ],
   "source": [
    "config = utils.load_config()"
   ]
  },
  {
   "cell_type": "markdown",
   "id": "c87f218e",
   "metadata": {},
   "source": [
    "<b>Copy module file to GCP bucket.</b>"
   ]
  },
  {
   "cell_type": "code",
   "execution_count": null,
   "id": "332ca165",
   "metadata": {
    "tags": []
   },
   "outputs": [],
   "source": [
    "!gsutil cp {config[\"MODULE_FILE\"]} {config[\"MODULE_PATH\"]}"
   ]
  },
  {
   "cell_type": "code",
   "execution_count": null,
   "id": "fcbec38a",
   "metadata": {
    "tags": []
   },
   "outputs": [],
   "source": [
    "utils.remove_previous_artefacts(config)"
   ]
  },
  {
   "cell_type": "markdown",
   "id": "c6fdda27",
   "metadata": {},
   "source": [
    "<b>Initialise an AIPlatfrom client</b>"
   ]
  },
  {
   "cell_type": "code",
   "execution_count": null,
   "id": "18cc1e5b",
   "metadata": {
    "tags": []
   },
   "outputs": [],
   "source": [
    "# aiplatform.init(project=config[\"PROJECT\"], location=config[\"REGION\"])\n",
    "context = utils.create_interactive_context(config)"
   ]
  },
  {
   "cell_type": "markdown",
   "id": "3e02f96e",
   "metadata": {},
   "source": [
    "<b>Declare the source query</b>"
   ]
  },
  {
   "cell_type": "code",
   "execution_count": null,
   "id": "bd5f1463",
   "metadata": {
    "tags": []
   },
   "outputs": [],
   "source": [
    "sql_query = \"SELECT * FROM `strategy-bi-ltd.ml.frames_merged3` WHERE rn <= 130500\""
   ]
  },
  {
   "cell_type": "markdown",
   "id": "9707aeeb",
   "metadata": {},
   "source": [
    "<b>Create components functions<b>Initialise an AIPlatfrom client</b> </b>"
   ]
  },
  {
   "cell_type": "markdown",
   "id": "c94f6cf0",
   "metadata": {},
   "source": [
    "This function creates BigQueryExampleGen component"
   ]
  },
  {
   "cell_type": "code",
   "execution_count": null,
   "id": "88e57298",
   "metadata": {
    "tags": []
   },
   "outputs": [],
   "source": [
    "def _get_bigquery_example_gen(sql_query):\n",
    "    output_config = example_gen_pb2.Output(\n",
    "        split_config=example_gen_pb2.SplitConfig(\n",
    "            splits=[\n",
    "                example_gen_pb2.SplitConfig.Split(name=\"train\", hash_buckets=9),\n",
    "                example_gen_pb2.SplitConfig.Split(name=\"eval\", hash_buckets=1),\n",
    "            ]\n",
    "        )\n",
    "    )\n",
    "    return BigQueryExampleGen(query=sql_query, output_config=output_config, custom_config=example_gen_pb2.CustomConfig())\n"
   ]
  },
  {
   "cell_type": "markdown",
   "id": "f93c78cc",
   "metadata": {},
   "source": [
    "This function creates ExampleGen component"
   ]
  },
  {
   "cell_type": "code",
   "execution_count": null,
   "id": "95752b1d",
   "metadata": {
    "tags": []
   },
   "outputs": [],
   "source": [
    "example_gen = _get_bigquery_example_gen(sql_query)"
   ]
  },
  {
   "cell_type": "code",
   "execution_count": null,
   "id": "351b8919",
   "metadata": {
    "jupyter": {
     "outputs_hidden": true
    },
    "tags": []
   },
   "outputs": [],
   "source": [
    "context.run(example_gen, beam_pipeline_args=config['BIG_QUERY_WITH_DIRECT_RUNNER_BEAM_PIPELINE_ARGS'], enable_cache=False)"
   ]
  },
  {
   "cell_type": "code",
   "execution_count": null,
   "id": "83bfb4ce",
   "metadata": {
    "tags": []
   },
   "outputs": [],
   "source": [
    "test_sql_query = \"SELECT * FROM `strategy-bi-ltd.ml.frames_merged3` WHERE rn > 130500\""
   ]
  },
  {
   "cell_type": "code",
   "execution_count": null,
   "id": "2f106868",
   "metadata": {
    "jupyter": {
     "outputs_hidden": true
    },
    "tags": []
   },
   "outputs": [],
   "source": [
    "output_config = example_gen_pb2.Output(\n",
    "    split_config=example_gen_pb2.SplitConfig(\n",
    "        splits=[\n",
    "            example_gen_pb2.SplitConfig.Split(name=\"test\", hash_buckets=1),\n",
    "        ]\n",
    "    )\n",
    ")\n",
    "\n",
    "test_example_gen = BigQueryExampleGen(query=test_sql_query, output_config=output_config, custom_config=example_gen_pb2.CustomConfig())\n",
    "\n",
    "beam_pipeline_args=[\n",
    "    f\"--project={config['PROJECT']}\",\n",
    "    f\"--temp_location={os.path.join(config['WORKSPACE'], 'tmp')}\"\n",
    "]\n",
    "\n",
    "context.run(\n",
    "    test_example_gen,\n",
    "    beam_pipeline_args=beam_pipeline_args,\n",
    "    enable_cache=False\n",
    ")"
   ]
  },
  {
   "cell_type": "markdown",
   "id": "97e925ef",
   "metadata": {},
   "source": [
    "This function creates StatisticsGen component"
   ]
  },
  {
   "cell_type": "code",
   "execution_count": null,
   "id": "da1ebde9",
   "metadata": {
    "tags": []
   },
   "outputs": [],
   "source": [
    "def _get_statistics_gen(example_gen):\n",
    "    return tfx.components.StatisticsGen(examples=example_gen.outputs['examples'])"
   ]
  },
  {
   "cell_type": "code",
   "execution_count": null,
   "id": "7d14bb5a",
   "metadata": {
    "jupyter": {
     "outputs_hidden": true
    },
    "tags": []
   },
   "outputs": [],
   "source": [
    "statistics_gen = _get_statistics_gen(example_gen)\n",
    "context.run(statistics_gen)"
   ]
  },
  {
   "cell_type": "markdown",
   "id": "e5c01505",
   "metadata": {},
   "source": [
    "This function creates SchemaGen component"
   ]
  },
  {
   "cell_type": "code",
   "execution_count": null,
   "id": "d203ad7d",
   "metadata": {
    "tags": []
   },
   "outputs": [],
   "source": [
    "def _get_schema_gen(statistics_gen):\n",
    "    return tfx.components.SchemaGen(statistics=statistics_gen.outputs['statistics'], infer_feature_shape=True)"
   ]
  },
  {
   "cell_type": "code",
   "execution_count": null,
   "id": "e9f8a906",
   "metadata": {
    "tags": []
   },
   "outputs": [],
   "source": [
    "schema_gen = _get_schema_gen(statistics_gen)\n",
    "context.run(schema_gen)"
   ]
  },
  {
   "cell_type": "markdown",
   "id": "509f64c3",
   "metadata": {},
   "source": [
    "This function creates ExampleValidator component"
   ]
  },
  {
   "cell_type": "code",
   "execution_count": null,
   "id": "b4f3f57d",
   "metadata": {
    "tags": []
   },
   "outputs": [],
   "source": [
    "def _get_example_validator(statistics_gen, schema_gen):\n",
    "    return tfx.components.ExampleValidator(\n",
    "      statistics=statistics_gen.outputs['statistics'],\n",
    "      schema=schema_gen.outputs['schema'])"
   ]
  },
  {
   "cell_type": "code",
   "execution_count": null,
   "id": "f3a1327d",
   "metadata": {
    "tags": []
   },
   "outputs": [],
   "source": [
    "example_validator = _get_example_validator(statistics_gen, schema_gen)\n",
    "context.run(example_validator)"
   ]
  },
  {
   "cell_type": "code",
   "execution_count": null,
   "id": "eeae01ea",
   "metadata": {
    "tags": []
   },
   "outputs": [],
   "source": [
    "context.show(example_validator.outputs['anomalies'])"
   ]
  },
  {
   "cell_type": "markdown",
   "id": "5a7eba9c",
   "metadata": {},
   "source": [
    "This function creates Transform component"
   ]
  },
  {
   "cell_type": "code",
   "execution_count": null,
   "id": "03697985",
   "metadata": {
    "tags": []
   },
   "outputs": [],
   "source": [
    "def _get_transform(example_gen, schema_gen, module_file):\n",
    "    return tfx.components.Transform(\n",
    "        examples=example_gen.outputs['examples'],\n",
    "        schema=schema_gen.outputs['schema'],\n",
    "        module_file=module_file)"
   ]
  },
  {
   "cell_type": "code",
   "execution_count": null,
   "id": "e645fd3d",
   "metadata": {
    "tags": []
   },
   "outputs": [],
   "source": [
    "transform = _get_transform(example_gen, schema_gen, config['MODULE_FILE'])\n",
    "context.run(transform, enable_cache=False)"
   ]
  },
  {
   "cell_type": "markdown",
   "id": "2f47ef73",
   "metadata": {},
   "source": [
    "This function creates Trainer component"
   ]
  },
  {
   "cell_type": "code",
   "execution_count": null,
   "id": "95762a0c",
   "metadata": {
    "tags": []
   },
   "outputs": [],
   "source": [
    "def _get_trainer(module_file, transform, schema_gen):\n",
    "    return tfx.components.Trainer(\n",
    "        module_file=module_file,\n",
    "        examples=transform.outputs['transformed_examples'],\n",
    "        transform_graph=transform.outputs['transform_graph'],\n",
    "        schema=schema_gen.outputs['schema'],\n",
    "        train_args=trainer_pb2.TrainArgs(num_steps=10000),\n",
    "        eval_args=trainer_pb2.EvalArgs(num_steps=5000),\n",
    "        custom_config={'labels_path': 'labels_path'})"
   ]
  },
  {
   "cell_type": "code",
   "execution_count": null,
   "id": "9e0d5061",
   "metadata": {
    "tags": []
   },
   "outputs": [],
   "source": [
    "trainer = _get_trainer(config['MODULE_FILE'], transform, schema_gen)\n",
    "context.run(trainer, enable_cache=False)"
   ]
  },
  {
   "cell_type": "markdown",
   "id": "94c3a4eb",
   "metadata": {},
   "source": [
    "This function creates Resolver component"
   ]
  },
  {
   "cell_type": "code",
   "execution_count": null,
   "id": "80adb614",
   "metadata": {
    "tags": []
   },
   "outputs": [],
   "source": [
    "def _get_model_resolver():\n",
    "    return resolver.Resolver(\n",
    "        strategy_class=latest_blessed_model_resolver.LatestBlessedModelResolver,\n",
    "        model=Channel(type=Model),\n",
    "        model_blessing=Channel(type=ModelBlessing)).with_id('latest_blessed_model_resolver')"
   ]
  },
  {
   "cell_type": "code",
   "execution_count": null,
   "id": "6580b201",
   "metadata": {
    "tags": []
   },
   "outputs": [],
   "source": [
    "latest_model_resolver = _get_model_resolver()\n",
    "context.run(latest_model_resolver, enable_cache=False)"
   ]
  },
  {
   "cell_type": "markdown",
   "id": "3e68129d",
   "metadata": {},
   "source": [
    "This function creates Evaluator component"
   ]
  },
  {
   "cell_type": "code",
   "execution_count": null,
   "id": "2fde1d00",
   "metadata": {
    "tags": []
   },
   "outputs": [],
   "source": [
    "def _get_evaluator(test_example_gen, trainer, model_resolver, accuracy_threshold):\n",
    "    eval_config = tfma.EvalConfig(\n",
    "        model_specs=[tfma.ModelSpec(label_key=config['LABEL'], signature_name='serving_default')],\n",
    "        slicing_specs=[tfma.SlicingSpec()],\n",
    "        metrics_specs=[\n",
    "            tfma.MetricsSpec(metrics=[\n",
    "                tfma.MetricConfig(\n",
    "                    class_name='BinaryAccuracy',\n",
    "                    threshold=tfma.MetricThreshold(\n",
    "                        value_threshold=tfma.GenericValueThreshold(\n",
    "                            lower_bound={'value': accuracy_threshold}),\n",
    "                        change_threshold=tfma.GenericChangeThreshold(\n",
    "                            direction=tfma.MetricDirection.HIGHER_IS_BETTER,\n",
    "                            absolute={'value': -1e-3})))\n",
    "                ])\n",
    "            ])\n",
    "    return tfx.components.Evaluator(\n",
    "        examples=test_example_gen.outputs['examples'],\n",
    "        example_splits=['test'],\n",
    "        model=trainer.outputs['model'],\n",
    "        baseline_model=model_resolver.outputs['model'],\n",
    "        eval_config=eval_config,\n",
    "        schema=schema_gen.outputs['schema'])"
   ]
  },
  {
   "cell_type": "code",
   "execution_count": null,
   "id": "f675e0f6",
   "metadata": {
    "tags": []
   },
   "outputs": [],
   "source": [
    "evaluator = _get_evaluator(test_example_gen, trainer, latest_model_resolver, accuracy_threshold=0.5)\n",
    "context.run(evaluator, enable_cache=False)"
   ]
  },
  {
   "cell_type": "code",
   "execution_count": null,
   "id": "489ab61e",
   "metadata": {
    "tags": []
   },
   "outputs": [],
   "source": [
    "evaluation_results = evaluator.outputs['evaluation'].get()[0].uri\n",
    "print(\"validation_ok:\", tfma.load_validation_result(evaluation_results).validation_ok, '\\n')\n",
    "\n",
    "for entry in list(tfma.load_metrics(evaluation_results))[0].metric_keys_and_values:\n",
    "    value = entry.value.double_value.value\n",
    "    if value:\n",
    "        print(entry.key.name, \":\", round(entry.value.double_value.value, 3))"
   ]
  },
  {
   "cell_type": "markdown",
   "id": "63bf3d47",
   "metadata": {},
   "source": [
    "This function creates Pusher component"
   ]
  },
  {
   "cell_type": "code",
   "execution_count": null,
   "id": "8b95fede",
   "metadata": {
    "tags": []
   },
   "outputs": [],
   "source": [
    "def _get_pusher(trainer, evaluator, serving_model_dir):\n",
    "    return tfx.components.Pusher(\n",
    "        model=trainer.outputs['model'],\n",
    "        model_blessing=evaluator.outputs['blessing'],\n",
    "        push_destination=pusher_pb2.PushDestination(\n",
    "            filesystem=pusher_pb2.PushDestination.Filesystem(\n",
    "                base_directory=serving_model_dir)))"
   ]
  },
  {
   "cell_type": "markdown",
   "id": "339fc4b8",
   "metadata": {},
   "source": [
    "This function creates pipeline"
   ]
  },
  {
   "cell_type": "code",
   "execution_count": null,
   "id": "30e9aed0",
   "metadata": {
    "tags": []
   },
   "outputs": [],
   "source": [
    "def _create_pipeline(pipeline_name: str, \n",
    "                     pipeline_root: str, \n",
    "                     module_file: str, \n",
    "                     serving_model_dir: str,\n",
    "                     beam_pipeline_args: Optional[List[str]],\n",
    "                     sql_query: str,\n",
    "                     test_sql_query: str,\n",
    "                     accuracy_threshold: float = 0.35\n",
    "                     ) -> tfx.dsl.Pipeline:\n",
    "    \n",
    "    # example_gen = _get_example_gen()\n",
    "    example_gen = _get_bigquery_example_gen(sql_query)\n",
    "    test_example_gen = _get_bigquery_example_gen(test_sql_query)\n",
    "    statistics_gen = _get_statistics_gen(example_gen)\n",
    "    schema_gen = _get_schema_gen(statistics_gen)\n",
    "    example_validator = _get_example_validator(statistics_gen, schema_gen)\n",
    "    transform = _get_transform(example_gen, schema_gen, module_file)\n",
    "    trainer = _get_trainer(module_file, transform, schema_gen)\n",
    "    model_resolver = _get_model_resolver()\n",
    "    evaluator = _get_evaluator(test_example_gen, trainer, model_resolver, accuracy_threshold)\n",
    "    pusher = _get_pusher(trainer, evaluator, serving_model_dir)\n",
    "    \n",
    "    components = [\n",
    "        example_gen, \n",
    "        statistics_gen, schema_gen, example_validator, transform,\n",
    "        trainer, model_resolver, evaluator, pusher\n",
    "    ]\n",
    "    \n",
    "    return tfx.dsl.Pipeline(\n",
    "        pipeline_name=pipeline_name,\n",
    "        pipeline_root=pipeline_root,\n",
    "        components=components,\n",
    "        beam_pipeline_args=beam_pipeline_args)"
   ]
  },
  {
   "cell_type": "markdown",
   "id": "0042fc76",
   "metadata": {},
   "source": [
    "This cell creates a runner and generates a pipeline"
   ]
  },
  {
   "cell_type": "code",
   "execution_count": null,
   "id": "a5aa0cee",
   "metadata": {
    "tags": []
   },
   "outputs": [],
   "source": [
    "runner = kubeflow_v2_dag_runner.KubeflowV2DagRunner(\n",
    "    config=kubeflow_v2_dag_runner.KubeflowV2DagRunnerConfig(),\n",
    "    output_filename=config[\"PIPELINE_DEFINITION_FILE\"])\n",
    "_ = runner.run(\n",
    "    _create_pipeline(\n",
    "        pipeline_name=config[\"PIPELINE_NAME\"],\n",
    "        pipeline_root=config[\"PIPELINE_ROOT\"],\n",
    "        module_file=config[\"MODULE_PATH\"],\n",
    "        serving_model_dir=config[\"SERVING_MODEL_DIR\"],\n",
    "        beam_pipeline_args=config[\"BIG_QUERY_WITH_DIRECT_RUNNER_BEAM_PIPELINE_ARGS\"],\n",
    "        sql_query = sql_query))"
   ]
  },
  {
   "cell_type": "markdown",
   "id": "cab5b9f8",
   "metadata": {},
   "source": [
    "This cell submits the generated pipeline to Vertex"
   ]
  },
  {
   "cell_type": "code",
   "execution_count": null,
   "id": "b4ef6562",
   "metadata": {
    "tags": []
   },
   "outputs": [],
   "source": [
    "job = pipeline_jobs.PipelineJob(template_path=config[\"PIPELINE_DEFINITION_FILE\"], display_name=config[\"PIPELINE_NAME\"],\n",
    "                                project=config[\"PROJECT\"], location=config[\"REGION\"])\n",
    "job.submit()"
   ]
  },
  {
   "cell_type": "code",
   "execution_count": null,
   "id": "e26ddcac",
   "metadata": {},
   "outputs": [],
   "source": [
    "mpath = 'gs://mlops-mlops/baseline/tfx_artifacts_interactive/baseline-classifier-v03-train-pipeline/Trainer/model/10/Format-Serving/'"
   ]
  },
  {
   "cell_type": "code",
   "execution_count": null,
   "id": "e2d877f4",
   "metadata": {
    "tags": []
   },
   "outputs": [],
   "source": [
    "model = tf.saved_model.load(mpath)"
   ]
  },
  {
   "cell_type": "code",
   "execution_count": null,
   "id": "efe66a72",
   "metadata": {
    "tags": []
   },
   "outputs": [],
   "source": [
    "data = {\n",
    "  \"avg_turnaround_time\": [[10.365767746714194]],\n",
    "  \"avg_transfer_time\": [[5.1641688843363749]],\n",
    "  \"min_total_MB_consumed\": [[1.0]],\n",
    "  \"max_total_MB_consumed\": [[1.19]],\n",
    "  \"avg_total_MB_consumed\": [[1.095]],\n",
    "  \"sum_total_MB_consumed\": [[2.19]],\n",
    "  \"avg_cnt_request_id\": [[233.0]],\n",
    "  \"cnt_total_MB_consumed\": [[2]],\n",
    "  \"min_cnt_request_id\": [[210]],\n",
    "  \"max_cnt_request_id\": [[256]],\n",
    "  \"cnt_cnt_request_id\": [[2]],\n",
    "  \"sum_cnt_request_id\": [[466]],\n",
    "  \"user_agent2\": [[\"Mozilla/5.0 (Linux; x86_64 GNU/Linux) AppleWebKit/601.1 (KHTML, like Gecko) Version/8.0 Safari/601.1 WPE FOG/3.0.0\"]],\n",
    "  \"asn_country\": [[\"GB\"]],\n",
    "  \"asn_type\": [[\"isp\"]],\n",
    "  \"channel\": [[\"\"]]\n",
    "}"
   ]
  },
  {
   "cell_type": "code",
   "execution_count": null,
   "id": "8ecc97a0",
   "metadata": {
    "tags": []
   },
   "outputs": [],
   "source": [
    "import json"
   ]
  },
  {
   "cell_type": "code",
   "execution_count": null,
   "id": "e12478f6",
   "metadata": {
    "tags": []
   },
   "outputs": [],
   "source": [
    "data1 = json.dumps({\"signature_name\": \"serving_default\", \"instances\": data})"
   ]
  },
  {
   "cell_type": "code",
   "execution_count": null,
   "id": "739ab0ba",
   "metadata": {
    "tags": []
   },
   "outputs": [],
   "source": [
    "data1"
   ]
  },
  {
   "cell_type": "code",
   "execution_count": null,
   "id": "791166bd",
   "metadata": {
    "tags": []
   },
   "outputs": [],
   "source": [
    "predictions = model.predict(data)"
   ]
  },
  {
   "cell_type": "code",
   "execution_count": null,
   "id": "3348754b",
   "metadata": {
    "tags": []
   },
   "outputs": [],
   "source": [
    "model.signatures[\"serving_default\"](**data)"
   ]
  },
  {
   "cell_type": "code",
   "execution_count": null,
   "id": "cce52538",
   "metadata": {
    "tags": []
   },
   "outputs": [],
   "source": [
    "!saved_model_cli show --dir gs://mlops-mlops/baseline/tfx_artifacts_interactive/baseline-classifier-v03-train-pipeline/Trainer/model/10/Format-Serving/ --all"
   ]
  },
  {
   "cell_type": "code",
   "execution_count": null,
   "id": "5a371fb3",
   "metadata": {
    "tags": []
   },
   "outputs": [],
   "source": [
    "infer = model.signatures[\"serving_default\"]"
   ]
  },
  {
   "cell_type": "code",
   "execution_count": null,
   "id": "25a66e64",
   "metadata": {
    "tags": []
   },
   "outputs": [],
   "source": [
    "print(infer.structured_outputs)"
   ]
  }
 ],
 "metadata": {
  "environment": {
   "kernel": "python3",
   "name": "tf2-cpu.2-11.m116",
   "type": "gcloud",
   "uri": "gcr.io/deeplearning-platform-release/tf2-cpu.2-11:m116"
  },
  "hide_input": false,
  "kernelspec": {
   "display_name": "Python 3",
   "language": "python",
   "name": "python3"
  },
  "language_info": {
   "codemirror_mode": {
    "name": "ipython",
    "version": 3
   },
   "file_extension": ".py",
   "mimetype": "text/x-python",
   "name": "python",
   "nbconvert_exporter": "python",
   "pygments_lexer": "ipython3",
   "version": "3.7.9"
  },
  "toc": {
   "base_numbering": 1,
   "nav_menu": {},
   "number_sections": true,
   "sideBar": true,
   "skip_h1_title": false,
   "title_cell": "Table of Contents",
   "title_sidebar": "Contents",
   "toc_cell": false,
   "toc_position": {},
   "toc_section_display": true,
   "toc_window_display": false
  }
 },
 "nbformat": 4,
 "nbformat_minor": 5
}
