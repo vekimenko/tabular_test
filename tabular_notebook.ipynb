{
 "cells": [
  {
   "cell_type": "markdown",
   "id": "6ba7e59f",
   "metadata": {},
   "source": [
    "# Create and run a pipeline in Vertex AI"
   ]
  },
  {
   "cell_type": "code",
   "execution_count": null,
   "id": "093ce8f9",
   "metadata": {
    "tags": []
   },
   "outputs": [],
   "source": [
    "%load_ext autoreload\n",
    "%autoreload 2"
   ]
  },
  {
   "cell_type": "markdown",
   "id": "2beecb1c",
   "metadata": {},
   "source": [
    "TFX Version: 1.12.0  \n",
    "Tensorflow Version: 2.11.0"
   ]
  },
  {
   "cell_type": "code",
   "execution_count": null,
   "id": "fe6bc8b0",
   "metadata": {
    "tags": []
   },
   "outputs": [],
   "source": [
    "from google.cloud import aiplatform\n",
    "from google.cloud.aiplatform import pipeline_jobs\n",
    "from google.cloud import storage\n",
    "import tensorflow as tf\n",
    "from tfx import v1 as tfx\n",
    "from tfx.proto import example_gen_pb2\n",
    "from tfx.extensions.google_cloud_big_query.example_gen.component import BigQueryExampleGen\n",
    "from tfx.dsl.components.common import resolver\n",
    "from tfx.proto import pusher_pb2\n",
    "from tfx.proto import trainer_pb2\n",
    "from tfx.types import Channel\n",
    "from tfx.types.standard_artifacts import Model\n",
    "from tfx.types.standard_artifacts import ModelBlessing\n",
    "from tfx.dsl.experimental import latest_blessed_model_resolver\n",
    "import tensorflow_model_analysis as tfma\n",
    "from typing import List, Optional\n",
    "from tfx.orchestration.kubeflow.v2 import kubeflow_v2_dag_runner\n",
    "import tensorflow_transform as tft\n",
    "import pandas as pd\n",
    "import os\n",
    "import logging\n",
    "logging.getLogger().setLevel(logging.INFO)\n",
    "print(\"TFX Version:\", tfx.__version__)\n",
    "print(\"Tensorflow Version:\", tf.__version__)"
   ]
  },
  {
   "cell_type": "code",
   "execution_count": null,
   "id": "14ad09ed",
   "metadata": {
    "tags": []
   },
   "outputs": [],
   "source": [
    "import sys\n",
    "sys.path.append(\"../..\")"
   ]
  },
  {
   "cell_type": "code",
   "execution_count": null,
   "id": "1303b4db",
   "metadata": {
    "tags": []
   },
   "outputs": [],
   "source": [
    "from src.common import utils"
   ]
  },
  {
   "cell_type": "markdown",
   "id": "3b613304",
   "metadata": {},
   "source": [
    "<b>Update variables in config.yml before running the next cell</b>"
   ]
  },
  {
   "cell_type": "code",
   "execution_count": 3,
   "id": "d7cc8ff6",
   "metadata": {
    "tags": []
   },
   "outputs": [
    {
     "name": "stdout",
     "output_type": "stream",
     "text": [
      "Project ID: strategy-bi-ltd\n",
      "Region: europe-west1\n",
      "Bucket name: mlops-mlops\n",
      "Service Account: mlops-compute@strategy-bi-ltd.iam.gserviceaccount.com\n",
      "Vertex API Parent URI: projects/strategy-bi-ltd/locations/europe-west1\n",
      "Version: v04\n",
      "Dataset display name: baseline\n",
      "Model display name: baseline-classifier-v04\n",
      "Workspace: gs://mlops-mlops/baseline\n",
      "Raw schema dir: raw_schema\n",
      "Module file local path: model.py\n",
      "Module file GCP path: gs://mlops-mlops/baseline/pipeline_module/baseline-classifier-v04-train-pipeline/pipeline_root/baseline-classifier-v04-train-pipeline/model.py\n",
      "MLMD sqllite: mlmd.sqllite\n",
      "Artifact store: gs://mlops-mlops/baseline\\tfx_artifacts_interactive\n",
      "Model registry: gs://mlops-mlops/baseline\\model_registry\n",
      "Pipeline name: baseline-classifier-v04-train-pipeline\n",
      "Pipeline root: gs://mlops-mlops/baseline\\tfx_artifacts_interactive\\baseline-classifier-v04-train-pipeline\n",
      "Pipeline definition file: baseline.json\n"
     ]
    }
   ],
   "source": [
    "config = utils.load_config()"
   ]
  },
  {
   "cell_type": "markdown",
   "id": "34a6e1bc",
   "metadata": {},
   "source": [
    "<b>Copy module file to GCP bucket.</b>"
   ]
  },
  {
   "cell_type": "code",
   "execution_count": null,
   "id": "f06fdb5a",
   "metadata": {
    "tags": []
   },
   "outputs": [],
   "source": [
    "!gsutil cp {config[\"MODULE_FILE\"]} {config[\"MODULE_PATH\"]}"
   ]
  },
  {
   "cell_type": "code",
   "execution_count": null,
   "id": "c5333b91",
   "metadata": {
    "tags": []
   },
   "outputs": [],
   "source": [
    "utils.remove_previous_artefacts(config)"
   ]
  },
  {
   "cell_type": "markdown",
   "id": "769fecf8",
   "metadata": {},
   "source": [
    "<b>Initialise an AIPlatfrom client</b>"
   ]
  },
  {
   "cell_type": "code",
   "execution_count": null,
   "id": "04200c98",
   "metadata": {
    "tags": []
   },
   "outputs": [],
   "source": [
    "# aiplatform.init(project=config[\"PROJECT\"], location=config[\"REGION\"])\n",
    "context = utils.create_interactive_context(config)"
   ]
  },
  {
   "cell_type": "markdown",
   "id": "d90b92ad",
   "metadata": {},
   "source": [
    "<b>Declare the source query</b>"
   ]
  },
  {
   "cell_type": "code",
   "execution_count": null,
   "id": "80a370c1",
   "metadata": {
    "tags": []
   },
   "outputs": [],
   "source": [
    "sql_query = \"SELECT * FROM `strategy-bi-ltd.ml.training_baseline_frames_merged3` WHERE rn <= 130500\""
   ]
  },
  {
   "cell_type": "markdown",
   "id": "02ed32d7",
   "metadata": {},
   "source": [
    "<b>Create components functions<b>Initialise an AIPlatfrom client</b> </b>"
   ]
  },
  {
   "cell_type": "markdown",
   "id": "99e09547",
   "metadata": {},
   "source": [
    "This function creates BigQueryExampleGen component"
   ]
  },
  {
   "cell_type": "code",
   "execution_count": null,
   "id": "7f197177",
   "metadata": {
    "tags": []
   },
   "outputs": [],
   "source": [
    "def _get_bigquery_example_gen(sql_query):\n",
    "    output_config = example_gen_pb2.Output(\n",
    "        split_config=example_gen_pb2.SplitConfig(\n",
    "            splits=[\n",
    "                example_gen_pb2.SplitConfig.Split(name=\"train\", hash_buckets=9),\n",
    "                example_gen_pb2.SplitConfig.Split(name=\"eval\", hash_buckets=1),\n",
    "            ]\n",
    "        )\n",
    "    )\n",
    "    return BigQueryExampleGen(query=sql_query, output_config=output_config, custom_config=example_gen_pb2.CustomConfig())\n"
   ]
  },
  {
   "cell_type": "markdown",
   "id": "2d54eaae",
   "metadata": {},
   "source": [
    "This function creates ExampleGen component"
   ]
  },
  {
   "cell_type": "code",
   "execution_count": null,
   "id": "56b35818",
   "metadata": {
    "tags": []
   },
   "outputs": [],
   "source": [
    "example_gen = _get_bigquery_example_gen(sql_query)"
   ]
  },
  {
   "cell_type": "code",
   "execution_count": null,
   "id": "62864374",
   "metadata": {
    "jupyter": {
     "outputs_hidden": true
    },
    "tags": []
   },
   "outputs": [],
   "source": [
    "context.run(example_gen, beam_pipeline_args=config['BIG_QUERY_WITH_DIRECT_RUNNER_BEAM_PIPELINE_ARGS'], enable_cache=False)"
   ]
  },
  {
   "cell_type": "code",
   "execution_count": null,
   "id": "7d065274",
   "metadata": {
    "tags": []
   },
   "outputs": [],
   "source": [
    "test_sql_query = \"SELECT * FROM `uk-gap-proximity-dev.ml.training_baseline_frames_merged3` WHERE rn > 130500\""
   ]
  },
  {
   "cell_type": "code",
   "execution_count": null,
   "id": "46e4cd56",
   "metadata": {
    "jupyter": {
     "outputs_hidden": true
    },
    "tags": []
   },
   "outputs": [],
   "source": [
    "output_config = example_gen_pb2.Output(\n",
    "    split_config=example_gen_pb2.SplitConfig(\n",
    "        splits=[\n",
    "            example_gen_pb2.SplitConfig.Split(name=\"test\", hash_buckets=1),\n",
    "        ]\n",
    "    )\n",
    ")\n",
    "\n",
    "test_example_gen = BigQueryExampleGen(query=test_sql_query, output_config=output_config, custom_config=example_gen_pb2.CustomConfig())\n",
    "\n",
    "beam_pipeline_args=[\n",
    "    f\"--project={config['PROJECT']}\",\n",
    "    f\"--temp_location={os.path.join(config['WORKSPACE'], 'tmp')}\"\n",
    "]\n",
    "\n",
    "context.run(\n",
    "    test_example_gen,\n",
    "    beam_pipeline_args=beam_pipeline_args,\n",
    "    enable_cache=False\n",
    ")"
   ]
  },
  {
   "cell_type": "markdown",
   "id": "68ce8bc6",
   "metadata": {},
   "source": [
    "This function creates StatisticsGen component"
   ]
  },
  {
   "cell_type": "code",
   "execution_count": null,
   "id": "2ce0407f",
   "metadata": {
    "tags": []
   },
   "outputs": [],
   "source": [
    "def _get_statistics_gen(example_gen):\n",
    "    return tfx.components.StatisticsGen(examples=example_gen.outputs['examples'])"
   ]
  },
  {
   "cell_type": "code",
   "execution_count": null,
   "id": "9c98dbb3",
   "metadata": {
    "jupyter": {
     "outputs_hidden": true
    },
    "tags": []
   },
   "outputs": [],
   "source": [
    "statistics_gen = _get_statistics_gen(example_gen)\n",
    "context.run(statistics_gen)"
   ]
  },
  {
   "cell_type": "markdown",
   "id": "fb4219a4",
   "metadata": {},
   "source": [
    "This function creates SchemaGen component"
   ]
  },
  {
   "cell_type": "code",
   "execution_count": null,
   "id": "933869f3",
   "metadata": {
    "tags": []
   },
   "outputs": [],
   "source": [
    "def _get_schema_gen(statistics_gen):\n",
    "    return tfx.components.SchemaGen(statistics=statistics_gen.outputs['statistics'], infer_feature_shape=True)"
   ]
  },
  {
   "cell_type": "code",
   "execution_count": null,
   "id": "3455becf",
   "metadata": {
    "tags": []
   },
   "outputs": [],
   "source": [
    "schema_gen = _get_schema_gen(statistics_gen)\n",
    "context.run(schema_gen)"
   ]
  },
  {
   "cell_type": "markdown",
   "id": "f5918130",
   "metadata": {},
   "source": [
    "This function creates ExampleValidator component"
   ]
  },
  {
   "cell_type": "code",
   "execution_count": null,
   "id": "5095679d",
   "metadata": {
    "tags": []
   },
   "outputs": [],
   "source": [
    "def _get_example_validator(statistics_gen, schema_gen):\n",
    "    return tfx.components.ExampleValidator(\n",
    "      statistics=statistics_gen.outputs['statistics'],\n",
    "      schema=schema_gen.outputs['schema'])"
   ]
  },
  {
   "cell_type": "code",
   "execution_count": null,
   "id": "3f0cb98f",
   "metadata": {
    "tags": []
   },
   "outputs": [],
   "source": [
    "example_validator = _get_example_validator(statistics_gen, schema_gen)\n",
    "context.run(example_validator)"
   ]
  },
  {
   "cell_type": "code",
   "execution_count": null,
   "id": "4bfbbad5",
   "metadata": {
    "tags": []
   },
   "outputs": [],
   "source": [
    "context.show(example_validator.outputs['anomalies'])"
   ]
  },
  {
   "cell_type": "markdown",
   "id": "650b6631",
   "metadata": {},
   "source": [
    "This function creates Transform component"
   ]
  },
  {
   "cell_type": "code",
   "execution_count": null,
   "id": "e87bc43a",
   "metadata": {
    "tags": []
   },
   "outputs": [],
   "source": [
    "def _get_transform(example_gen, schema_gen, module_file):\n",
    "    return tfx.components.Transform(\n",
    "        examples=example_gen.outputs['examples'],\n",
    "        schema=schema_gen.outputs['schema'],\n",
    "        module_file=module_file)"
   ]
  },
  {
   "cell_type": "code",
   "execution_count": null,
   "id": "1f597585",
   "metadata": {
    "tags": []
   },
   "outputs": [],
   "source": [
    "transform = _get_transform(example_gen, schema_gen, config['MODULE_FILE'])\n",
    "context.run(transform, enable_cache=False)"
   ]
  },
  {
   "cell_type": "markdown",
   "id": "ce1861b0",
   "metadata": {},
   "source": [
    "This function creates Trainer component"
   ]
  },
  {
   "cell_type": "code",
   "execution_count": null,
   "id": "12d54460",
   "metadata": {
    "tags": []
   },
   "outputs": [],
   "source": [
    "def _get_trainer(module_file, transform, schema_gen):\n",
    "    return tfx.components.Trainer(\n",
    "        module_file=module_file,\n",
    "        examples=transform.outputs['transformed_examples'],\n",
    "        transform_graph=transform.outputs['transform_graph'],\n",
    "        schema=schema_gen.outputs['schema'],\n",
    "        train_args=trainer_pb2.TrainArgs(num_steps=10000),\n",
    "        eval_args=trainer_pb2.EvalArgs(num_steps=5000),\n",
    "        custom_config={'labels_path': 'labels_path'})"
   ]
  },
  {
   "cell_type": "code",
   "execution_count": null,
   "id": "ba8ead90",
   "metadata": {
    "tags": []
   },
   "outputs": [],
   "source": [
    "trainer = _get_trainer(config['MODULE_FILE'], transform, schema_gen)\n",
    "context.run(trainer, enable_cache=False)"
   ]
  },
  {
   "cell_type": "markdown",
   "id": "d5f34c45",
   "metadata": {},
   "source": [
    "This function creates Resolver component"
   ]
  },
  {
   "cell_type": "code",
   "execution_count": null,
   "id": "7e3c6ff5",
   "metadata": {
    "tags": []
   },
   "outputs": [],
   "source": [
    "def _get_model_resolver():\n",
    "    return resolver.Resolver(\n",
    "        strategy_class=latest_blessed_model_resolver.LatestBlessedModelResolver,\n",
    "        model=Channel(type=Model),\n",
    "        model_blessing=Channel(type=ModelBlessing)).with_id('latest_blessed_model_resolver')"
   ]
  },
  {
   "cell_type": "code",
   "execution_count": null,
   "id": "b17c02f0",
   "metadata": {
    "tags": []
   },
   "outputs": [],
   "source": [
    "latest_model_resolver = _get_model_resolver()\n",
    "context.run(latest_model_resolver, enable_cache=False)"
   ]
  },
  {
   "cell_type": "markdown",
   "id": "c8e517f8",
   "metadata": {},
   "source": [
    "This function creates Evaluator component"
   ]
  },
  {
   "cell_type": "code",
   "execution_count": null,
   "id": "8da4b352",
   "metadata": {
    "tags": []
   },
   "outputs": [],
   "source": [
    "def _get_evaluator(test_example_gen, trainer, model_resolver, accuracy_threshold):\n",
    "    eval_config = tfma.EvalConfig(\n",
    "        model_specs=[tfma.ModelSpec(label_key=config['LABEL'], signature_name='serving_default')],\n",
    "        slicing_specs=[tfma.SlicingSpec()],\n",
    "        metrics_specs=[\n",
    "            tfma.MetricsSpec(metrics=[\n",
    "                tfma.MetricConfig(\n",
    "                    class_name='BinaryAccuracy',\n",
    "                    threshold=tfma.MetricThreshold(\n",
    "                        value_threshold=tfma.GenericValueThreshold(\n",
    "                            lower_bound={'value': accuracy_threshold}),\n",
    "                        change_threshold=tfma.GenericChangeThreshold(\n",
    "                            direction=tfma.MetricDirection.HIGHER_IS_BETTER,\n",
    "                            absolute={'value': -1e-3})))\n",
    "                ])\n",
    "            ])\n",
    "    return tfx.components.Evaluator(\n",
    "        examples=test_example_gen.outputs['examples'],\n",
    "        example_splits=['test'],\n",
    "        model=trainer.outputs['model'],\n",
    "        baseline_model=model_resolver.outputs['model'],\n",
    "        eval_config=eval_config,\n",
    "        schema=schema_gen.outputs['schema'])"
   ]
  },
  {
   "cell_type": "code",
   "execution_count": null,
   "id": "abc76916",
   "metadata": {
    "tags": []
   },
   "outputs": [],
   "source": [
    "evaluator = _get_evaluator(test_example_gen, trainer, latest_model_resolver, accuracy_threshold=0.5)\n",
    "context.run(evaluator, enable_cache=False)"
   ]
  },
  {
   "cell_type": "code",
   "execution_count": null,
   "id": "6d1d0ac9",
   "metadata": {
    "tags": []
   },
   "outputs": [],
   "source": [
    "evaluation_results = evaluator.outputs['evaluation'].get()[0].uri\n",
    "print(\"validation_ok:\", tfma.load_validation_result(evaluation_results).validation_ok, '\\n')\n",
    "\n",
    "for entry in list(tfma.load_metrics(evaluation_results))[0].metric_keys_and_values:\n",
    "    value = entry.value.double_value.value\n",
    "    if value:\n",
    "        print(entry.key.name, \":\", round(entry.value.double_value.value, 3))"
   ]
  },
  {
   "cell_type": "code",
   "execution_count": null,
   "id": "df07aa5b",
   "metadata": {
    "tags": []
   },
   "outputs": [],
   "source": [
    "!gsutil ls gs://mlops-mlops/baseline/tfx_artifacts_interactive/baseline-classifier-v04-train-pipeline/Trainer/model/10/Format-Serving"
   ]
  },
  {
   "cell_type": "code",
   "execution_count": null,
   "id": "007d451d",
   "metadata": {
    "tags": []
   },
   "outputs": [],
   "source": [
    "!gsutil cp -r gs://mlops-mlops/baseline/tfx_artifacts_interactive/baseline-classifier-v04-train-pipeline/Trainer/model/10/Format-Serving/* gs://sky-mlops-dev/model-000/v01"
   ]
  },
  {
   "cell_type": "code",
   "execution_count": null,
   "id": "f922d768",
   "metadata": {
    "tags": []
   },
   "outputs": [],
   "source": [
    "!gsutil cp -r gs://mlops-mlops/baseline/tfx_artifacts_interactive/baseline-classifier-v04-train-pipeline/Trainer/model/10/Format-Serving/* gs://sky-mlops-dev/model-000/live"
   ]
  },
  {
   "cell_type": "code",
   "execution_count": null,
   "id": "2ae6aea0",
   "metadata": {},
   "outputs": [],
   "source": []
  },
  {
   "cell_type": "markdown",
   "id": "14bb41a5",
   "metadata": {},
   "source": [
    "This function creates Pusher component"
   ]
  },
  {
   "cell_type": "code",
   "execution_count": null,
   "id": "be905284",
   "metadata": {
    "tags": []
   },
   "outputs": [],
   "source": [
    "def _get_pusher(trainer, evaluator, serving_model_dir):\n",
    "    return tfx.components.Pusher(\n",
    "        model=trainer.outputs['model'],\n",
    "        model_blessing=evaluator.outputs['blessing'],\n",
    "        push_destination=pusher_pb2.PushDestination(\n",
    "            filesystem=pusher_pb2.PushDestination.Filesystem(\n",
    "                base_directory=serving_model_dir)))"
   ]
  },
  {
   "cell_type": "markdown",
   "id": "31de6a76",
   "metadata": {},
   "source": [
    "This function creates pipeline"
   ]
  },
  {
   "cell_type": "code",
   "execution_count": null,
   "id": "13a5f46e",
   "metadata": {
    "tags": []
   },
   "outputs": [],
   "source": [
    "def _create_pipeline(pipeline_name: str, \n",
    "                     pipeline_root: str, \n",
    "                     module_file: str, \n",
    "                     serving_model_dir: str,\n",
    "                     beam_pipeline_args: Optional[List[str]],\n",
    "                     sql_query: str,\n",
    "                     test_sql_query: str,\n",
    "                     accuracy_threshold: float = 0.35\n",
    "                     ) -> tfx.dsl.Pipeline:\n",
    "    \n",
    "    # example_gen = _get_example_gen()\n",
    "    example_gen = _get_bigquery_example_gen(sql_query)\n",
    "    test_example_gen = _get_bigquery_example_gen(test_sql_query)\n",
    "    statistics_gen = _get_statistics_gen(example_gen)\n",
    "    schema_gen = _get_schema_gen(statistics_gen)\n",
    "    example_validator = _get_example_validator(statistics_gen, schema_gen)\n",
    "    transform = _get_transform(example_gen, schema_gen, module_file)\n",
    "    trainer = _get_trainer(module_file, transform, schema_gen)\n",
    "    model_resolver = _get_model_resolver()\n",
    "    evaluator = _get_evaluator(test_example_gen, trainer, model_resolver, accuracy_threshold)\n",
    "    pusher = _get_pusher(trainer, evaluator, serving_model_dir)\n",
    "    \n",
    "    components = [\n",
    "        example_gen, \n",
    "        statistics_gen, schema_gen, example_validator, transform,\n",
    "        trainer, model_resolver, evaluator, pusher\n",
    "    ]\n",
    "    \n",
    "    return tfx.dsl.Pipeline(\n",
    "        pipeline_name=pipeline_name,\n",
    "        pipeline_root=pipeline_root,\n",
    "        components=components,\n",
    "        beam_pipeline_args=beam_pipeline_args)"
   ]
  },
  {
   "cell_type": "markdown",
   "id": "707f164d",
   "metadata": {},
   "source": [
    "This cell creates a runner and generates a pipeline"
   ]
  },
  {
   "cell_type": "code",
   "execution_count": null,
   "id": "1ac04587",
   "metadata": {
    "tags": []
   },
   "outputs": [],
   "source": [
    "runner = kubeflow_v2_dag_runner.KubeflowV2DagRunner(\n",
    "    config=kubeflow_v2_dag_runner.KubeflowV2DagRunnerConfig(),\n",
    "    output_filename=config[\"PIPELINE_DEFINITION_FILE\"])\n",
    "_ = runner.run(\n",
    "    _create_pipeline(\n",
    "        pipeline_name=config[\"PIPELINE_NAME\"],\n",
    "        pipeline_root=config[\"PIPELINE_ROOT\"],\n",
    "        module_file=config[\"MODULE_PATH\"],\n",
    "        serving_model_dir=config[\"SERVING_MODEL_DIR\"],\n",
    "        beam_pipeline_args=config[\"BIG_QUERY_WITH_DIRECT_RUNNER_BEAM_PIPELINE_ARGS\"],\n",
    "        sql_query = sql_query))"
   ]
  },
  {
   "cell_type": "markdown",
   "id": "a69fe63e",
   "metadata": {},
   "source": [
    "This cell submits the generated pipeline to Vertex"
   ]
  },
  {
   "cell_type": "code",
   "execution_count": null,
   "id": "8a698cd0",
   "metadata": {
    "tags": []
   },
   "outputs": [],
   "source": [
    "job = pipeline_jobs.PipelineJob(template_path=config[\"PIPELINE_DEFINITION_FILE\"], display_name=config[\"PIPELINE_NAME\"],\n",
    "                                project=config[\"PROJECT\"], location=config[\"REGION\"])\n",
    "job.submit()"
   ]
  },
  {
   "cell_type": "code",
   "execution_count": null,
   "id": "7b7489ce",
   "metadata": {},
   "outputs": [],
   "source": []
  },
  {
   "cell_type": "code",
   "execution_count": null,
   "id": "fe6434d9",
   "metadata": {},
   "outputs": [],
   "source": []
  },
  {
   "cell_type": "code",
   "execution_count": null,
   "id": "2669e2f3",
   "metadata": {},
   "outputs": [],
   "source": [
    "mpath = 'gs://mlops-mlops/baseline/tfx_artifacts_interactive/baseline-classifier-v03-train-pipeline/Trainer/model/10/Format-Serving/'"
   ]
  },
  {
   "cell_type": "code",
   "execution_count": null,
   "id": "51c7636e",
   "metadata": {
    "tags": []
   },
   "outputs": [],
   "source": [
    "model = tf.saved_model.load(mpath)"
   ]
  },
  {
   "cell_type": "code",
   "execution_count": null,
   "id": "2c6ef7eb",
   "metadata": {
    "tags": []
   },
   "outputs": [],
   "source": [
    "data = \"Mozilla/5.0 (Linux; x86_64 GNU/Linux) AppleWebKit/601.1 (KHTML, like Gecko) Version/8.0 Safari/601.1 WPE FOG/3.0.0\""
   ]
  },
  {
   "cell_type": "code",
   "execution_count": null,
   "id": "9fbf917e",
   "metadata": {
    "tags": []
   },
   "outputs": [],
   "source": [
    "data = [\"GB\",\"isp\",233.0,1.095,5.1641688843363749,10.365767746714194,np.nan,2,2,256,1.19,210,1.0,466,2.19,\"Mozilla/5.0 (Linux; x86_64 GNU/Linux) AppleWebKit/601.1 (KHTML, like Gecko) Version/8.0 Safari/601.1 WPE FOG/3.0.0\"]"
   ]
  },
  {
   "cell_type": "code",
   "execution_count": null,
   "id": "0cd7eb14",
   "metadata": {
    "tags": []
   },
   "outputs": [],
   "source": [
    "data = {\n",
    "  \"avg_turnaround_time\": [[10.365767746714194]],\n",
    "  \"avg_transfer_time\": [[5.1641688843363749]],\n",
    "  \"min_total_MB_consumed\": [[1.0]],\n",
    "  \"max_total_MB_consumed\": [[1.19]],\n",
    "  \"avg_total_MB_consumed\": [[1.095]],\n",
    "  \"sum_total_MB_consumed\": [[2.19]],\n",
    "  \"avg_cnt_request_id\": [[233.0]],\n",
    "  \"cnt_total_MB_consumed\": [[2]],\n",
    "  \"min_cnt_request_id\": [[210]],\n",
    "  \"max_cnt_request_id\": [[256]],\n",
    "  \"cnt_cnt_request_id\": [[2]],\n",
    "  \"sum_cnt_request_id\": [[466]],\n",
    "  \"user_agent2\": [[\"Mozilla/5.0 (Linux; x86_64 GNU/Linux) AppleWebKit/601.1 (KHTML, like Gecko) Version/8.0 Safari/601.1 WPE FOG/3.0.0\"]],\n",
    "  \"asn_country\": [[\"GB\"]],\n",
    "  \"asn_type\": [[\"isp\"]],\n",
    "  \"channel\": [[\"\"]]\n",
    "}"
   ]
  },
  {
   "cell_type": "code",
   "execution_count": null,
   "id": "5bc75d9d",
   "metadata": {
    "tags": []
   },
   "outputs": [],
   "source": [
    "import json"
   ]
  },
  {
   "cell_type": "code",
   "execution_count": null,
   "id": "0dc76b9e",
   "metadata": {
    "tags": []
   },
   "outputs": [],
   "source": [
    "data1 = json.dumps({\"signature_name\": \"serving_default\", \"instances\": data})"
   ]
  },
  {
   "cell_type": "code",
   "execution_count": null,
   "id": "3a902cd2",
   "metadata": {
    "tags": []
   },
   "outputs": [],
   "source": [
    "data1"
   ]
  },
  {
   "cell_type": "code",
   "execution_count": null,
   "id": "ccbe814f",
   "metadata": {
    "tags": []
   },
   "outputs": [],
   "source": [
    "# predictions = model.predict(data)\n",
    "model.signatures[\"serving_default\"](**data)"
   ]
  },
  {
   "cell_type": "code",
   "execution_count": null,
   "id": "bff40814",
   "metadata": {
    "tags": []
   },
   "outputs": [],
   "source": [
    "!saved_model_cli show --dir gs://mlops-mlops/baseline/tfx_artifacts_interactive/baseline-classifier-v03-train-pipeline/Trainer/model/10/Format-Serving/ --all"
   ]
  },
  {
   "cell_type": "code",
   "execution_count": null,
   "id": "f1ed3895",
   "metadata": {
    "tags": []
   },
   "outputs": [],
   "source": [
    "infer = model.signatures[\"serving_default\"]"
   ]
  },
  {
   "cell_type": "code",
   "execution_count": null,
   "id": "96a0ce61",
   "metadata": {
    "tags": []
   },
   "outputs": [],
   "source": [
    "print(infer.structured_outputs)"
   ]
  },
  {
   "cell_type": "code",
   "execution_count": null,
   "id": "bb93335e",
   "metadata": {},
   "outputs": [],
   "source": []
  },
  {
   "cell_type": "code",
   "execution_count": null,
   "id": "9d5dcc59",
   "metadata": {},
   "outputs": [],
   "source": []
  },
  {
   "cell_type": "code",
   "execution_count": null,
   "id": "f674d839",
   "metadata": {},
   "outputs": [],
   "source": []
  },
  {
   "cell_type": "code",
   "execution_count": null,
   "id": "1dcc3fde",
   "metadata": {},
   "outputs": [],
   "source": []
  },
  {
   "cell_type": "code",
   "execution_count": null,
   "id": "1afe0441",
   "metadata": {},
   "outputs": [],
   "source": []
  }
 ],
 "metadata": {
  "environment": {
   "kernel": "python3",
   "name": "tf2-cpu.2-11.m116",
   "type": "gcloud",
   "uri": "gcr.io/deeplearning-platform-release/tf2-cpu.2-11:m116"
  },
  "hide_input": false,
  "kernelspec": {
   "display_name": "Python 3",
   "language": "python",
   "name": "python3"
  },
  "language_info": {
   "codemirror_mode": {
    "name": "ipython",
    "version": 3
   },
   "file_extension": ".py",
   "mimetype": "text/x-python",
   "name": "python",
   "nbconvert_exporter": "python",
   "pygments_lexer": "ipython3",
   "version": "3.7.9"
  },
  "toc": {
   "base_numbering": 1,
   "nav_menu": {},
   "number_sections": true,
   "sideBar": true,
   "skip_h1_title": false,
   "title_cell": "Table of Contents",
   "title_sidebar": "Contents",
   "toc_cell": false,
   "toc_position": {},
   "toc_section_display": true,
   "toc_window_display": false
  }
 },
 "nbformat": 4,
 "nbformat_minor": 5
}
